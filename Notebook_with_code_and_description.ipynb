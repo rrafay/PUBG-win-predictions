{
  "nbformat": 4,
  "nbformat_minor": 0,
  "metadata": {
    "colab": {
      "name": "kaam_shaam.ipynb",
      "provenance": []
    },
    "language_info": {
      "name": "python",
      "version": "3.6.4",
      "mimetype": "text/x-python",
      "codemirror_mode": {
        "name": "ipython",
        "version": 3
      },
      "pygments_lexer": "ipython3",
      "nbconvert_exporter": "python",
      "file_extension": ".py"
    },
    "kernelspec": {
      "display_name": "Python 3",
      "language": "python",
      "name": "python3"
    }
  },
  "cells": [
    {
      "cell_type": "markdown",
      "metadata": {
        "id": "oKTgF8aket9a",
        "colab_type": "text"
      },
      "source": [
        "**PUBG Win Placement Prediction**"
      ]
    },
    {
      "cell_type": "code",
      "metadata": {
        "_uuid": "8f2839f25d086af736a60e9eeb907d3b93b6e0e5",
        "_cell_guid": "b1076dfc-b9ad-4769-8c92-a6c4dae69d19",
        "trusted": true,
        "id": "sKHorhVMet9b",
        "colab_type": "code",
        "outputId": "987ac571-0c2c-4e90-a436-56aacb611108",
        "colab": {}
      },
      "source": [
        "# This Python 3 environment comes with many helpful analytics libraries installed\n",
        "# It is defined by the kaggle/python docker image: https://github.com/kaggle/docker-python\n",
        "# For example, here's several helpful packages to load in \n",
        "\n",
        "import numpy as np # linear algebra\n",
        "import pandas as pd # data processing, CSV file I/O (e.g. pd.read_csv)\n",
        "\n",
        "# Input data files are available in the \"../input/\" directory.\n",
        "# For example, running this (by clicking run or pressing Shift+Enter) will list the files in the input directory\n",
        "\n",
        "import os\n",
        "print(os.listdir(\"../input\"))\n",
        "\n",
        "# Any results you write to the current directory are saved as output."
      ],
      "execution_count": 0,
      "outputs": [
        {
          "output_type": "stream",
          "text": [
            "['train_V2.csv', 'sample_submission_V2.csv', 'test_V2.csv']\n"
          ],
          "name": "stdout"
        }
      ]
    },
    {
      "cell_type": "markdown",
      "metadata": {
        "id": "krPIxjHFet9h",
        "colab_type": "text"
      },
      "source": [
        "> The motivation for this competition is:\n",
        "1. PUBG is the only game I play\n",
        "2. I want to expand my Machine Learning and Data Science skills to other fields\n"
      ]
    },
    {
      "cell_type": "code",
      "metadata": {
        "_cell_guid": "79c7e3d0-c299-4dcb-8224-4455121ee9b0",
        "_uuid": "d629ff2d2480ee46fbb7e2d37f6b5fab8052498a",
        "trusted": true,
        "id": "qLXnjcLHet9j",
        "colab_type": "code",
        "colab": {}
      },
      "source": [
        "#Import Libraries\n",
        "import numpy as np\n",
        "import matplotlib.pyplot as plt\n",
        "import pandas as pd\n",
        "import os"
      ],
      "execution_count": 0,
      "outputs": []
    },
    {
      "cell_type": "markdown",
      "metadata": {
        "id": "SKarbyEVet9m",
        "colab_type": "text"
      },
      "source": [
        "> The **Features** in this dataset are shown below. Some of them are assists, boosts, kills, matchDuration etc..\n",
        "The **Target** in this dataset is winPlacePercentage which is the probability of players winning a game."
      ]
    },
    {
      "cell_type": "code",
      "metadata": {
        "trusted": true,
        "id": "t7hP_sLyet9m",
        "colab_type": "code",
        "outputId": "3bf7aeba-42c7-4596-969f-cdb4d0ea6fa9",
        "colab": {}
      },
      "source": [
        "#Read dataset and remove NA values\n",
        "dataset = pd.read_csv(\"../input/train_V2.csv\")\n",
        "dataset.dropna(inplace = True)\n",
        "dataset.isnull().any().any()\n",
        "dataset.head()"
      ],
      "execution_count": 0,
      "outputs": [
        {
          "output_type": "execute_result",
          "data": {
            "text/plain": [
              "               Id         groupId      ...      winPoints  winPlacePerc\n",
              "0  7f96b2f878858a  4d4b580de459be      ...           1466        0.4444\n",
              "1  eef90569b9d03c  684d5656442f9e      ...              0        0.6400\n",
              "2  1eaf90ac73de72  6a4a42c3245a74      ...              0        0.7755\n",
              "3  4616d365dd2853  a930a9c79cd721      ...              0        0.1667\n",
              "4  315c96c26c9aac  de04010b3458dd      ...              0        0.1875\n",
              "\n",
              "[5 rows x 29 columns]"
            ],
            "text/html": [
              "<div>\n",
              "<style scoped>\n",
              "    .dataframe tbody tr th:only-of-type {\n",
              "        vertical-align: middle;\n",
              "    }\n",
              "\n",
              "    .dataframe tbody tr th {\n",
              "        vertical-align: top;\n",
              "    }\n",
              "\n",
              "    .dataframe thead th {\n",
              "        text-align: right;\n",
              "    }\n",
              "</style>\n",
              "<table border=\"1\" class=\"dataframe\">\n",
              "  <thead>\n",
              "    <tr style=\"text-align: right;\">\n",
              "      <th></th>\n",
              "      <th>Id</th>\n",
              "      <th>groupId</th>\n",
              "      <th>matchId</th>\n",
              "      <th>assists</th>\n",
              "      <th>boosts</th>\n",
              "      <th>damageDealt</th>\n",
              "      <th>DBNOs</th>\n",
              "      <th>headshotKills</th>\n",
              "      <th>heals</th>\n",
              "      <th>killPlace</th>\n",
              "      <th>killPoints</th>\n",
              "      <th>kills</th>\n",
              "      <th>killStreaks</th>\n",
              "      <th>longestKill</th>\n",
              "      <th>matchDuration</th>\n",
              "      <th>matchType</th>\n",
              "      <th>maxPlace</th>\n",
              "      <th>numGroups</th>\n",
              "      <th>rankPoints</th>\n",
              "      <th>revives</th>\n",
              "      <th>rideDistance</th>\n",
              "      <th>roadKills</th>\n",
              "      <th>swimDistance</th>\n",
              "      <th>teamKills</th>\n",
              "      <th>vehicleDestroys</th>\n",
              "      <th>walkDistance</th>\n",
              "      <th>weaponsAcquired</th>\n",
              "      <th>winPoints</th>\n",
              "      <th>winPlacePerc</th>\n",
              "    </tr>\n",
              "  </thead>\n",
              "  <tbody>\n",
              "    <tr>\n",
              "      <th>0</th>\n",
              "      <td>7f96b2f878858a</td>\n",
              "      <td>4d4b580de459be</td>\n",
              "      <td>a10357fd1a4a91</td>\n",
              "      <td>0</td>\n",
              "      <td>0</td>\n",
              "      <td>0.00</td>\n",
              "      <td>0</td>\n",
              "      <td>0</td>\n",
              "      <td>0</td>\n",
              "      <td>60</td>\n",
              "      <td>1241</td>\n",
              "      <td>0</td>\n",
              "      <td>0</td>\n",
              "      <td>0.00</td>\n",
              "      <td>1306</td>\n",
              "      <td>squad-fpp</td>\n",
              "      <td>28</td>\n",
              "      <td>26</td>\n",
              "      <td>-1</td>\n",
              "      <td>0</td>\n",
              "      <td>0.0000</td>\n",
              "      <td>0</td>\n",
              "      <td>0.00</td>\n",
              "      <td>0</td>\n",
              "      <td>0</td>\n",
              "      <td>244.80</td>\n",
              "      <td>1</td>\n",
              "      <td>1466</td>\n",
              "      <td>0.4444</td>\n",
              "    </tr>\n",
              "    <tr>\n",
              "      <th>1</th>\n",
              "      <td>eef90569b9d03c</td>\n",
              "      <td>684d5656442f9e</td>\n",
              "      <td>aeb375fc57110c</td>\n",
              "      <td>0</td>\n",
              "      <td>0</td>\n",
              "      <td>91.47</td>\n",
              "      <td>0</td>\n",
              "      <td>0</td>\n",
              "      <td>0</td>\n",
              "      <td>57</td>\n",
              "      <td>0</td>\n",
              "      <td>0</td>\n",
              "      <td>0</td>\n",
              "      <td>0.00</td>\n",
              "      <td>1777</td>\n",
              "      <td>squad-fpp</td>\n",
              "      <td>26</td>\n",
              "      <td>25</td>\n",
              "      <td>1484</td>\n",
              "      <td>0</td>\n",
              "      <td>0.0045</td>\n",
              "      <td>0</td>\n",
              "      <td>11.04</td>\n",
              "      <td>0</td>\n",
              "      <td>0</td>\n",
              "      <td>1434.00</td>\n",
              "      <td>5</td>\n",
              "      <td>0</td>\n",
              "      <td>0.6400</td>\n",
              "    </tr>\n",
              "    <tr>\n",
              "      <th>2</th>\n",
              "      <td>1eaf90ac73de72</td>\n",
              "      <td>6a4a42c3245a74</td>\n",
              "      <td>110163d8bb94ae</td>\n",
              "      <td>1</td>\n",
              "      <td>0</td>\n",
              "      <td>68.00</td>\n",
              "      <td>0</td>\n",
              "      <td>0</td>\n",
              "      <td>0</td>\n",
              "      <td>47</td>\n",
              "      <td>0</td>\n",
              "      <td>0</td>\n",
              "      <td>0</td>\n",
              "      <td>0.00</td>\n",
              "      <td>1318</td>\n",
              "      <td>duo</td>\n",
              "      <td>50</td>\n",
              "      <td>47</td>\n",
              "      <td>1491</td>\n",
              "      <td>0</td>\n",
              "      <td>0.0000</td>\n",
              "      <td>0</td>\n",
              "      <td>0.00</td>\n",
              "      <td>0</td>\n",
              "      <td>0</td>\n",
              "      <td>161.80</td>\n",
              "      <td>2</td>\n",
              "      <td>0</td>\n",
              "      <td>0.7755</td>\n",
              "    </tr>\n",
              "    <tr>\n",
              "      <th>3</th>\n",
              "      <td>4616d365dd2853</td>\n",
              "      <td>a930a9c79cd721</td>\n",
              "      <td>f1f1f4ef412d7e</td>\n",
              "      <td>0</td>\n",
              "      <td>0</td>\n",
              "      <td>32.90</td>\n",
              "      <td>0</td>\n",
              "      <td>0</td>\n",
              "      <td>0</td>\n",
              "      <td>75</td>\n",
              "      <td>0</td>\n",
              "      <td>0</td>\n",
              "      <td>0</td>\n",
              "      <td>0.00</td>\n",
              "      <td>1436</td>\n",
              "      <td>squad-fpp</td>\n",
              "      <td>31</td>\n",
              "      <td>30</td>\n",
              "      <td>1408</td>\n",
              "      <td>0</td>\n",
              "      <td>0.0000</td>\n",
              "      <td>0</td>\n",
              "      <td>0.00</td>\n",
              "      <td>0</td>\n",
              "      <td>0</td>\n",
              "      <td>202.70</td>\n",
              "      <td>3</td>\n",
              "      <td>0</td>\n",
              "      <td>0.1667</td>\n",
              "    </tr>\n",
              "    <tr>\n",
              "      <th>4</th>\n",
              "      <td>315c96c26c9aac</td>\n",
              "      <td>de04010b3458dd</td>\n",
              "      <td>6dc8ff871e21e6</td>\n",
              "      <td>0</td>\n",
              "      <td>0</td>\n",
              "      <td>100.00</td>\n",
              "      <td>0</td>\n",
              "      <td>0</td>\n",
              "      <td>0</td>\n",
              "      <td>45</td>\n",
              "      <td>0</td>\n",
              "      <td>1</td>\n",
              "      <td>1</td>\n",
              "      <td>58.53</td>\n",
              "      <td>1424</td>\n",
              "      <td>solo-fpp</td>\n",
              "      <td>97</td>\n",
              "      <td>95</td>\n",
              "      <td>1560</td>\n",
              "      <td>0</td>\n",
              "      <td>0.0000</td>\n",
              "      <td>0</td>\n",
              "      <td>0.00</td>\n",
              "      <td>0</td>\n",
              "      <td>0</td>\n",
              "      <td>49.75</td>\n",
              "      <td>2</td>\n",
              "      <td>0</td>\n",
              "      <td>0.1875</td>\n",
              "    </tr>\n",
              "  </tbody>\n",
              "</table>\n",
              "</div>"
            ]
          },
          "metadata": {
            "tags": []
          },
          "execution_count": 3
        }
      ]
    },
    {
      "cell_type": "markdown",
      "metadata": {
        "id": "3edqjXrFet9q",
        "colab_type": "text"
      },
      "source": [
        "> I'm extracting the necessary features in the code below and converting them to a dataframe. I do the same to the targets as well. Note that I have removed all the NAs in the code above. "
      ]
    },
    {
      "cell_type": "code",
      "metadata": {
        "trusted": true,
        "id": "-OVO5uKdet9r",
        "colab_type": "code",
        "colab": {}
      },
      "source": [
        "#This is the dataframe\n",
        "X = dataset.iloc[:, [3,4,5,6,7,8,9,10,11,12,13,16,17,18,19,20,21,22,23,24,26,27]]\n",
        "y = dataset.iloc[:, 28]\n"
      ],
      "execution_count": 0,
      "outputs": []
    },
    {
      "cell_type": "markdown",
      "metadata": {
        "id": "tGAHc6U_et9u",
        "colab_type": "text"
      },
      "source": [
        "> Please note that features such as 'matchDuration' and 'walkDistance' are excluded from the dataframe. That is because the longer the match duration the higher the chance of winning a game. Same goes for walk distance--players are supposed to walk more(due to the circle closing in) as they progress in the game. The use of these two variables in my analysis resulted in an overfitting of the data which i was not happy with. The scores of different algorithms with these two variables were close to 97%. "
      ]
    },
    {
      "cell_type": "markdown",
      "metadata": {
        "id": "sWFlx7O_et9v",
        "colab_type": "text"
      },
      "source": [
        "> As a good data scientist, I am going to split my dataset into a training and test set to avoid overfitting :)"
      ]
    },
    {
      "cell_type": "code",
      "metadata": {
        "trusted": true,
        "id": "vQC977xZet9v",
        "colab_type": "code",
        "colab": {}
      },
      "source": [
        "# Splitting the dataset into the Training set and Test set\n",
        "from sklearn.model_selection import train_test_split\n",
        "X_train_1, X_test_1, y_train_1, y_test_1 = train_test_split(X, y, test_size = 0.3, random_state = 0)"
      ],
      "execution_count": 0,
      "outputs": []
    },
    {
      "cell_type": "markdown",
      "metadata": {
        "id": "oOumexsset9y",
        "colab_type": "text"
      },
      "source": [
        "> Feature scaling or standardization(z-scores). Standardization means rescaling the features such that they have the properties of a standard normal distribution with a mean of zero and a standard deviation of one. This is important because we want the variance of the features in the same range."
      ]
    },
    {
      "cell_type": "code",
      "metadata": {
        "trusted": true,
        "id": "_thNw-pIet9z",
        "colab_type": "code",
        "outputId": "62b7dbcd-16ee-4531-995f-cafeeafb10a7",
        "colab": {}
      },
      "source": [
        "#Feature Scaling\n",
        "from sklearn.preprocessing import StandardScaler\n",
        "scaled = StandardScaler()\n",
        "X_train_1 = scaled.fit_transform(X_train_1)\n",
        "X_test_1 = scaled.transform(X_test_1)\n"
      ],
      "execution_count": 0,
      "outputs": [
        {
          "output_type": "stream",
          "text": [
            "/opt/conda/lib/python3.6/site-packages/sklearn/preprocessing/data.py:645: DataConversionWarning: Data with input dtype int64, float64 were all converted to float64 by StandardScaler.\n",
            "  return self.partial_fit(X, y)\n",
            "/opt/conda/lib/python3.6/site-packages/sklearn/base.py:464: DataConversionWarning: Data with input dtype int64, float64 were all converted to float64 by StandardScaler.\n",
            "  return self.fit(X, **fit_params).transform(X)\n",
            "/opt/conda/lib/python3.6/site-packages/ipykernel_launcher.py:5: DataConversionWarning: Data with input dtype int64, float64 were all converted to float64 by StandardScaler.\n",
            "  \"\"\"\n"
          ],
          "name": "stderr"
        }
      ]
    },
    {
      "cell_type": "markdown",
      "metadata": {
        "id": "LcVloZKfet92",
        "colab_type": "text"
      },
      "source": [
        "> I'm starting off my quest to find the best algorithms with Random Forest regression. The decision to chose a regression algorithm instead of a classification algorithm is due to the fact that the predictions are probabilities ranging from 0 to 1. If my targets were either 0 or 1 I would've chosen a classification algorithm for this dataset.\n",
        "> > In summary, Random forest is a technique which uses multiple decision trees and bootstrap aggregation. The bootstrap aggregation involves training each decision tree on a different data sample where sampling is done with replacement. Instead of using one decison tree to find an output, multiple decision trees are combined in determining the final output. More on Random forest can be found here: https://medium.com/datadriveninvestor/random-forest-regression-9871bc9a25eb"
      ]
    },
    {
      "cell_type": "code",
      "metadata": {
        "trusted": true,
        "id": "9EbGTsH8et93",
        "colab_type": "code",
        "outputId": "92940210-0d49-46c2-f21e-349b891c9bf9",
        "colab": {}
      },
      "source": [
        "#Trying Random Forest to get the most important features\n",
        "from sklearn.ensemble import RandomForestRegressor\n",
        "rforest = RandomForestRegressor(n_estimators= 10, max_depth = 5)\n",
        "rforest.fit(X_train_1,y_train_1)\n",
        "print(\"Random Forest Score: \", rforest.score(X_test_1,y_test_1))"
      ],
      "execution_count": 0,
      "outputs": [
        {
          "output_type": "stream",
          "text": [
            "Random Forest Score:  0.7553168819920004\n"
          ],
          "name": "stdout"
        }
      ]
    },
    {
      "cell_type": "markdown",
      "metadata": {
        "id": "y4PA0JMWet98",
        "colab_type": "text"
      },
      "source": [
        "> 75% is a pretty decent score."
      ]
    },
    {
      "cell_type": "markdown",
      "metadata": {
        "id": "5ej3aeOnet99",
        "colab_type": "text"
      },
      "source": [
        "> Here I am calculating the MSE which is the Mean Squared Error. MSE measures the average of the squares of the errors—that is the average squared difference between the estimated values and what is estimated. "
      ]
    },
    {
      "cell_type": "code",
      "metadata": {
        "trusted": true,
        "id": "92B1i_Qyet-A",
        "colab_type": "code",
        "outputId": "1137a7a7-e80a-4e2d-d3d4-5cdfb240ecd5",
        "colab": {}
      },
      "source": [
        "#mean Squared error\n",
        "from sklearn.metrics import mean_squared_error\n",
        "y_pred_rf = rforest.predict(X_test_1)\n",
        "mse_rf = mean_squared_error(y_test_1, y_pred_rf)\n",
        "print(\"Random forest MSE: \", mse_rf)"
      ],
      "execution_count": 0,
      "outputs": [
        {
          "output_type": "stream",
          "text": [
            "Random forest MSE:  0.02311611562425801\n"
          ],
          "name": "stdout"
        }
      ]
    },
    {
      "cell_type": "markdown",
      "metadata": {
        "id": "EQsqLi_aet-H",
        "colab_type": "text"
      },
      "source": [
        "> In the code below I'm extarcting the most important features. The bar plot will determine the important factors on a scale of 0 to 1"
      ]
    },
    {
      "cell_type": "code",
      "metadata": {
        "trusted": true,
        "id": "u2Qw6wTqet-J",
        "colab_type": "code",
        "outputId": "3c78ac7d-0592-48f9-db2b-011fd865a24b",
        "colab": {}
      },
      "source": [
        "#Extract Feature Names\n",
        "feature_names = list(X)\n",
        "feature_names = np.array(feature_names)\n",
        "feature_names"
      ],
      "execution_count": 0,
      "outputs": [
        {
          "output_type": "execute_result",
          "data": {
            "text/plain": [
              "array(['assists', 'boosts', 'damageDealt', 'DBNOs', 'headshotKills',\n",
              "       'heals', 'killPlace', 'killPoints', 'kills', 'killStreaks',\n",
              "       'longestKill', 'maxPlace', 'numGroups', 'rankPoints', 'revives',\n",
              "       'rideDistance', 'roadKills', 'swimDistance', 'teamKills',\n",
              "       'vehicleDestroys', 'weaponsAcquired', 'winPoints'], dtype='<U15')"
            ]
          },
          "metadata": {
            "tags": []
          },
          "execution_count": 14
        }
      ]
    },
    {
      "cell_type": "code",
      "metadata": {
        "trusted": true,
        "id": "WYPBePfmet-O",
        "colab_type": "code",
        "outputId": "00d9db22-8cc0-4f3e-cf76-7d3b0190e2ab",
        "colab": {}
      },
      "source": [
        "#Plot the most important features\n",
        "important_inds = (rforest.feature_importances_ > 0)\n",
        "importance_names = feature_names[important_inds]\n",
        "importance_vals = rforest.feature_importances_[important_inds]\n",
        "plt.barh(range(len(importance_vals)), importance_vals);\n",
        "plt.yticks(np.arange(len(importance_vals)), importance_names);\n"
      ],
      "execution_count": 0,
      "outputs": [
        {
          "output_type": "display_data",
          "data": {
            "text/plain": [
              "<Figure size 432x288 with 1 Axes>"
            ],
            "image/png": "[encoded data removed]"
          },
          "metadata": {
            "tags": []
          }
        }
      ]
    },
    {
      "cell_type": "markdown",
      "metadata": {
        "id": "DtvnMtKNet-R",
        "colab_type": "text"
      },
      "source": [
        "> As observed in the plot above, the most important features are killPlace, Boosts, and weapons acquired. "
      ]
    },
    {
      "cell_type": "markdown",
      "metadata": {
        "id": "1K7uoEquet-S",
        "colab_type": "text"
      },
      "source": [
        "> Now lets try Decision trees. "
      ]
    },
    {
      "cell_type": "code",
      "metadata": {
        "trusted": true,
        "id": "0Tw-69Zbet-S",
        "colab_type": "code",
        "outputId": "e3cef4ff-5b7c-4886-e4c9-7a58e32091f0",
        "colab": {}
      },
      "source": [
        "#Decison Tree\n",
        "from sklearn.tree import DecisionTreeRegressor\n",
        "\n",
        "DT = DecisionTreeRegressor(max_depth=2)\n",
        "DT.fit(X_train_1,y_train_1)\n",
        "DT.score(X_test_1,y_test_1)\n"
      ],
      "execution_count": 0,
      "outputs": [
        {
          "output_type": "execute_result",
          "data": {
            "text/plain": [
              "0.6332286504443305"
            ]
          },
          "metadata": {
            "tags": []
          },
          "execution_count": 24
        }
      ]
    },
    {
      "cell_type": "markdown",
      "metadata": {
        "id": "Fn83FUNiet-X",
        "colab_type": "text"
      },
      "source": [
        "> The decision tree score is decent but not better than random forest algorithm. "
      ]
    },
    {
      "cell_type": "markdown",
      "metadata": {
        "id": "OTW69ZBket-b",
        "colab_type": "text"
      },
      "source": [
        "> Checking the most important features int he code below"
      ]
    },
    {
      "cell_type": "code",
      "metadata": {
        "trusted": true,
        "id": "-q5DWRt9et-c",
        "colab_type": "code",
        "outputId": "2f4732bf-a933-456e-fed9-d28fb35ad91d",
        "colab": {}
      },
      "source": [
        "feature_names = list(X)\n",
        "feature_names = np.array(feature_names)\n",
        "feature_names\n"
      ],
      "execution_count": 0,
      "outputs": [
        {
          "output_type": "execute_result",
          "data": {
            "text/plain": [
              "array(['assists', 'boosts', 'damageDealt', 'DBNOs', 'headshotKills',\n",
              "       'heals', 'killPlace', 'killPoints', 'kills', 'killStreaks',\n",
              "       'longestKill', 'maxPlace', 'numGroups', 'rankPoints', 'revives',\n",
              "       'rideDistance', 'roadKills', 'swimDistance', 'teamKills',\n",
              "       'vehicleDestroys', 'weaponsAcquired', 'winPoints'], dtype='<U15')"
            ]
          },
          "metadata": {
            "tags": []
          },
          "execution_count": 25
        }
      ]
    },
    {
      "cell_type": "code",
      "metadata": {
        "trusted": true,
        "id": "ZfIbZAIMet-j",
        "colab_type": "code",
        "outputId": "a11355c4-f059-48a0-9f61-dbae6e956227",
        "colab": {}
      },
      "source": [
        "important_inds = (DT.feature_importances_ > 0)\n",
        "importance_names = feature_names[important_inds]\n",
        "importance_vals = DT.feature_importances_[important_inds]\n",
        "plt.barh(range(len(importance_vals)), importance_vals);\n",
        "plt.yticks(np.arange(len(importance_vals)), importance_names);"
      ],
      "execution_count": 0,
      "outputs": [
        {
          "output_type": "display_data",
          "data": {
            "text/plain": [
              "<Figure size 432x288 with 1 Axes>"
            ],
            "image/png": "[encoded data removed]"
          },
          "metadata": {
            "tags": []
          }
        }
      ]
    },
    {
      "cell_type": "markdown",
      "metadata": {
        "id": "BpK38w5det-n",
        "colab_type": "text"
      },
      "source": [
        "> As observed above the only two important features for a decision tree are killPlace and boosts. Note that when I used Random Forest, I got to know that there is another important feature (i.e. weaponsAcquired) than the above two. I am going to stick with random forest because its a collection of decision trees whose results are aggregated. Random Forest limits overfitting whithout increasing error due to bias and reduce variance by training on different samples of data."
      ]
    },
    {
      "cell_type": "markdown",
      "metadata": {
        "id": "VBWnlwFCet-n",
        "colab_type": "text"
      },
      "source": [
        "> I'm only selecting the important features obtained from Random Forest to run more algorithms"
      ]
    },
    {
      "cell_type": "code",
      "metadata": {
        "trusted": true,
        "id": "KeVwPuEWet-o",
        "colab_type": "code",
        "colab": {}
      },
      "source": [
        "#Now, only selecting the 3 most important features which are 'weaponsAcquired', 'killPlace' and 'boosts'\n",
        "X = dataset.iloc[:, [4,9,26]]\n",
        "y = dataset.iloc[:, 28]\n"
      ],
      "execution_count": 0,
      "outputs": []
    },
    {
      "cell_type": "markdown",
      "metadata": {
        "id": "doHoCV74et-s",
        "colab_type": "text"
      },
      "source": [
        "> Repeating the split"
      ]
    },
    {
      "cell_type": "code",
      "metadata": {
        "trusted": true,
        "id": "Xm3p3rEcet-t",
        "colab_type": "code",
        "colab": {}
      },
      "source": [
        "# Splitting the dataset into the Training set and Test set again\n",
        "from sklearn.model_selection import train_test_split\n",
        "X_train, X_test, y_train, y_test = train_test_split(X, y, test_size = 0.3, random_state = 0)"
      ],
      "execution_count": 0,
      "outputs": []
    },
    {
      "cell_type": "markdown",
      "metadata": {
        "id": "I7vlmmwqet-v",
        "colab_type": "text"
      },
      "source": [
        "> Repeating feature scaling on the new test and train set"
      ]
    },
    {
      "cell_type": "code",
      "metadata": {
        "trusted": true,
        "id": "H4zDTuHKet-x",
        "colab_type": "code",
        "outputId": "b1c2892d-b5c7-4818-ff1e-b4e87b0cf6b7",
        "colab": {}
      },
      "source": [
        "# Feature Scaling\n",
        "from sklearn.preprocessing import StandardScaler\n",
        "scaled = StandardScaler()\n",
        "X_train = scaled.fit_transform(X_train)\n",
        "X_test = scaled.transform(X_test)\n"
      ],
      "execution_count": 0,
      "outputs": [
        {
          "output_type": "stream",
          "text": [
            "/opt/conda/lib/python3.6/site-packages/sklearn/preprocessing/data.py:645: DataConversionWarning: Data with input dtype int64 were all converted to float64 by StandardScaler.\n",
            "  return self.partial_fit(X, y)\n",
            "/opt/conda/lib/python3.6/site-packages/sklearn/base.py:464: DataConversionWarning: Data with input dtype int64 were all converted to float64 by StandardScaler.\n",
            "  return self.fit(X, **fit_params).transform(X)\n",
            "/opt/conda/lib/python3.6/site-packages/ipykernel_launcher.py:5: DataConversionWarning: Data with input dtype int64 were all converted to float64 by StandardScaler.\n",
            "  \"\"\"\n"
          ],
          "name": "stderr"
        }
      ]
    },
    {
      "cell_type": "markdown",
      "metadata": {
        "id": "_nQ82MFeet-0",
        "colab_type": "text"
      },
      "source": [
        "> Running Random Forest on the Test set that has been given in this competition"
      ]
    },
    {
      "cell_type": "code",
      "metadata": {
        "trusted": true,
        "id": "S0oABlIMet-1",
        "colab_type": "code",
        "outputId": "bc350cbd-a584-485a-ab95-3ab58d4fc1bc",
        "colab": {}
      },
      "source": [
        "#Random Forest on 3 features again to make predicitons on our test set(given)\n",
        "\n",
        "from sklearn.ensemble import RandomForestRegressor\n",
        "randomforest = RandomForestRegressor(n_estimators= 10, max_depth = 5)\n",
        "randomforest.fit(X_train,y_train)\n",
        "print(\"Random Forest Score: \", randomforest.score(X_test,y_test))"
      ],
      "execution_count": 0,
      "outputs": [
        {
          "output_type": "stream",
          "text": [
            "Random Forest Score:  0.7392482646118183\n"
          ],
          "name": "stdout"
        }
      ]
    },
    {
      "cell_type": "markdown",
      "metadata": {
        "id": "UZ9ZUYwNet-4",
        "colab_type": "text"
      },
      "source": [
        "> RF score close to what was predicted earlier"
      ]
    },
    {
      "cell_type": "markdown",
      "metadata": {
        "id": "Nso7F0euet-5",
        "colab_type": "text"
      },
      "source": [
        "> Below: \n",
        "> >Reading Test set\n",
        "> > > Making predictions on Test set\n",
        "> > > > Putting the predictions in a submission file"
      ]
    },
    {
      "cell_type": "code",
      "metadata": {
        "trusted": true,
        "id": "fliDSwh5et-6",
        "colab_type": "code",
        "outputId": "67c8f2ba-4e30-422a-e580-09d9336da586",
        "colab": {}
      },
      "source": [
        "#Test set\n",
        "test = pd.read_csv(\"../input/test_V2.csv\")\n",
        "X_X = test[[\"boosts\", \"killPlace\", \"weaponsAcquired\"]]\n",
        "X_X.head()"
      ],
      "execution_count": 0,
      "outputs": [
        {
          "output_type": "execute_result",
          "data": {
            "text/plain": [
              "   boosts  killPlace  weaponsAcquired\n",
              "0       0         73                1\n",
              "1       4         11                6\n",
              "2       0         49                4\n",
              "3       0         54                3\n",
              "4       4          7                4"
            ],
            "text/html": [
              "<div>\n",
              "<style scoped>\n",
              "    .dataframe tbody tr th:only-of-type {\n",
              "        vertical-align: middle;\n",
              "    }\n",
              "\n",
              "    .dataframe tbody tr th {\n",
              "        vertical-align: top;\n",
              "    }\n",
              "\n",
              "    .dataframe thead th {\n",
              "        text-align: right;\n",
              "    }\n",
              "</style>\n",
              "<table border=\"1\" class=\"dataframe\">\n",
              "  <thead>\n",
              "    <tr style=\"text-align: right;\">\n",
              "      <th></th>\n",
              "      <th>boosts</th>\n",
              "      <th>killPlace</th>\n",
              "      <th>weaponsAcquired</th>\n",
              "    </tr>\n",
              "  </thead>\n",
              "  <tbody>\n",
              "    <tr>\n",
              "      <th>0</th>\n",
              "      <td>0</td>\n",
              "      <td>73</td>\n",
              "      <td>1</td>\n",
              "    </tr>\n",
              "    <tr>\n",
              "      <th>1</th>\n",
              "      <td>4</td>\n",
              "      <td>11</td>\n",
              "      <td>6</td>\n",
              "    </tr>\n",
              "    <tr>\n",
              "      <th>2</th>\n",
              "      <td>0</td>\n",
              "      <td>49</td>\n",
              "      <td>4</td>\n",
              "    </tr>\n",
              "    <tr>\n",
              "      <th>3</th>\n",
              "      <td>0</td>\n",
              "      <td>54</td>\n",
              "      <td>3</td>\n",
              "    </tr>\n",
              "    <tr>\n",
              "      <th>4</th>\n",
              "      <td>4</td>\n",
              "      <td>7</td>\n",
              "      <td>4</td>\n",
              "    </tr>\n",
              "  </tbody>\n",
              "</table>\n",
              "</div>"
            ]
          },
          "metadata": {
            "tags": []
          },
          "execution_count": 32
        }
      ]
    },
    {
      "cell_type": "code",
      "metadata": {
        "trusted": true,
        "id": "gIok0s4aet-8",
        "colab_type": "code",
        "colab": {}
      },
      "source": [
        "#Make preds on test set\n",
        "test_rf = randomforest.predict(X_X)"
      ],
      "execution_count": 0,
      "outputs": []
    },
    {
      "cell_type": "code",
      "metadata": {
        "trusted": true,
        "id": "a6hd1-3Uet_B",
        "colab_type": "code",
        "outputId": "62431b11-8f8a-461a-da67-f761996a489b",
        "colab": {}
      },
      "source": [
        "#Making predictions on the result set\n",
        "results = pd.read_csv(\"../input/sample_submission_V2.csv\")\n",
        "results.head()"
      ],
      "execution_count": 0,
      "outputs": [
        {
          "output_type": "execute_result",
          "data": {
            "text/plain": [
              "               Id  winPlacePerc\n",
              "0  9329eb41e215eb             1\n",
              "1  639bd0dcd7bda8             1\n",
              "2  63d5c8ef8dfe91             1\n",
              "3  cf5b81422591d1             1\n",
              "4  ee6a295187ba21             1"
            ],
            "text/html": [
              "<div>\n",
              "<style scoped>\n",
              "    .dataframe tbody tr th:only-of-type {\n",
              "        vertical-align: middle;\n",
              "    }\n",
              "\n",
              "    .dataframe tbody tr th {\n",
              "        vertical-align: top;\n",
              "    }\n",
              "\n",
              "    .dataframe thead th {\n",
              "        text-align: right;\n",
              "    }\n",
              "</style>\n",
              "<table border=\"1\" class=\"dataframe\">\n",
              "  <thead>\n",
              "    <tr style=\"text-align: right;\">\n",
              "      <th></th>\n",
              "      <th>Id</th>\n",
              "      <th>winPlacePerc</th>\n",
              "    </tr>\n",
              "  </thead>\n",
              "  <tbody>\n",
              "    <tr>\n",
              "      <th>0</th>\n",
              "      <td>9329eb41e215eb</td>\n",
              "      <td>1</td>\n",
              "    </tr>\n",
              "    <tr>\n",
              "      <th>1</th>\n",
              "      <td>639bd0dcd7bda8</td>\n",
              "      <td>1</td>\n",
              "    </tr>\n",
              "    <tr>\n",
              "      <th>2</th>\n",
              "      <td>63d5c8ef8dfe91</td>\n",
              "      <td>1</td>\n",
              "    </tr>\n",
              "    <tr>\n",
              "      <th>3</th>\n",
              "      <td>cf5b81422591d1</td>\n",
              "      <td>1</td>\n",
              "    </tr>\n",
              "    <tr>\n",
              "      <th>4</th>\n",
              "      <td>ee6a295187ba21</td>\n",
              "      <td>1</td>\n",
              "    </tr>\n",
              "  </tbody>\n",
              "</table>\n",
              "</div>"
            ]
          },
          "metadata": {
            "tags": []
          },
          "execution_count": 35
        }
      ]
    },
    {
      "cell_type": "code",
      "metadata": {
        "trusted": true,
        "id": "rPWMT9Tbet_E",
        "colab_type": "code",
        "colab": {}
      },
      "source": [
        "results[\"winPlacePerc\"] = test_rf"
      ],
      "execution_count": 0,
      "outputs": []
    },
    {
      "cell_type": "code",
      "metadata": {
        "trusted": true,
        "id": "TDzvaMk0et_H",
        "colab_type": "code",
        "colab": {}
      },
      "source": [
        "#results.to_csv('submission.csv', index = False)"
      ],
      "execution_count": 0,
      "outputs": []
    },
    {
      "cell_type": "markdown",
      "metadata": {
        "id": "pLpmNsEuet_J",
        "colab_type": "text"
      },
      "source": [
        "> Moving on to Linear Regression. Lets compare how Linear Regression does as compared to Random Forest"
      ]
    },
    {
      "cell_type": "code",
      "metadata": {
        "trusted": true,
        "id": "Zj-TkBw7et_K",
        "colab_type": "code",
        "colab": {}
      },
      "source": [
        "#Linear Regression\n",
        "from sklearn.linear_model import LinearRegression\n",
        "lr = LinearRegression()\n",
        "lr.fit(X_train, y_train)\n",
        "y_pred = lr.predict(X_test)\n",
        "lr.score(X_train,y_train)"
      ],
      "execution_count": 0,
      "outputs": []
    },
    {
      "cell_type": "markdown",
      "metadata": {
        "id": "w89LOzC_et_M",
        "colab_type": "text"
      },
      "source": [
        "> A score of 0.64 is not as good as Random Forest but slightly better than Decision Trees. Although the score is satisfactory, I'll try another algorithm to obtain a better accuracy than 0.75"
      ]
    },
    {
      "cell_type": "markdown",
      "metadata": {
        "id": "QXzujZ45et_N",
        "colab_type": "text"
      },
      "source": [
        "> Now, using Artificial Neural Networks on our dataset to make predicitons"
      ]
    },
    {
      "cell_type": "code",
      "metadata": {
        "trusted": true,
        "id": "ZyNrdY5met_O",
        "colab_type": "code",
        "outputId": "977d733e-f3aa-43e6-acf5-4f84ab7ff0b8",
        "colab": {}
      },
      "source": [
        "\n",
        "# Importing the Keras libraries and packages\n",
        "import keras\n",
        "from keras.models import Sequential\n",
        "from keras.layers import Dense"
      ],
      "execution_count": 0,
      "outputs": [
        {
          "output_type": "stream",
          "text": [
            "Using TensorFlow backend.\n"
          ],
          "name": "stderr"
        }
      ]
    },
    {
      "cell_type": "code",
      "metadata": {
        "trusted": true,
        "id": "oD-amjOuet_S",
        "colab_type": "code",
        "colab": {}
      },
      "source": [
        "regressor = Sequential()"
      ],
      "execution_count": 0,
      "outputs": []
    },
    {
      "cell_type": "code",
      "metadata": {
        "trusted": true,
        "id": "R18aoHIqet_W",
        "colab_type": "code",
        "outputId": "deca6156-6f48-45c9-e40f-1648ecb54355",
        "colab": {}
      },
      "source": [
        "# Adding the input layer and the first hidden layer\n",
        "regressor.add(Dense(units = 2, kernel_initializer = 'normal', activation = 'relu', input_dim = 3))"
      ],
      "execution_count": 0,
      "outputs": [
        {
          "output_type": "stream",
          "text": [
            "WARNING:tensorflow:From /opt/conda/lib/python3.6/site-packages/tensorflow/python/framework/op_def_library.py:263: colocate_with (from tensorflow.python.framework.ops) is deprecated and will be removed in a future version.\n",
            "Instructions for updating:\n",
            "Colocations handled automatically by placer.\n"
          ],
          "name": "stdout"
        }
      ]
    },
    {
      "cell_type": "code",
      "metadata": {
        "trusted": true,
        "id": "jfyOwcYFet_a",
        "colab_type": "code",
        "colab": {}
      },
      "source": [
        "# Adding the second hidden layer\n",
        "regressor.add(Dense(units = 2, kernel_initializer = 'normal', activation = 'relu'))"
      ],
      "execution_count": 0,
      "outputs": []
    },
    {
      "cell_type": "code",
      "metadata": {
        "trusted": true,
        "id": "n4oH1O9fet_i",
        "colab_type": "code",
        "colab": {}
      },
      "source": [
        "#Adding third hidden layer\n",
        "regressor.add(Dense(units = 2, kernel_initializer = 'normal', activation = 'relu'))"
      ],
      "execution_count": 0,
      "outputs": []
    },
    {
      "cell_type": "markdown",
      "metadata": {
        "id": "GFK2qExjet_k",
        "colab_type": "text"
      },
      "source": [
        "> Using \"Linear\" activation function because this is a regression problem"
      ]
    },
    {
      "cell_type": "code",
      "metadata": {
        "trusted": true,
        "id": "nOWp4mhEet_l",
        "colab_type": "code",
        "colab": {}
      },
      "source": [
        "# Adding the output layer\n",
        "regressor.add(Dense(units = 1,  kernel_initializer = 'normal', activation = 'linear'))"
      ],
      "execution_count": 0,
      "outputs": []
    },
    {
      "cell_type": "markdown",
      "metadata": {
        "id": "g3-KplQpet_n",
        "colab_type": "text"
      },
      "source": [
        "> The loss function is mean squared error and metric as accuracy. The outputs from fitting our ANN will be MSE and model accuracy"
      ]
    },
    {
      "cell_type": "code",
      "metadata": {
        "trusted": true,
        "id": "CsH1Pm9Het_o",
        "colab_type": "code",
        "colab": {}
      },
      "source": [
        "# Compiling the ANN\n",
        "regressor.compile(optimizer = 'adam', loss = 'mean_squared_error', metrics = ['accuracy'])"
      ],
      "execution_count": 0,
      "outputs": []
    },
    {
      "cell_type": "code",
      "metadata": {
        "trusted": true,
        "id": "2F_k7fVxet_t",
        "colab_type": "code",
        "outputId": "78ff6e1c-ea30-45bc-e37b-f91788c8a06f",
        "colab": {}
      },
      "source": [
        "# Fitting the ANN to the Training set\n",
        "regressor.fit(X_train, y_train, batch_size = 3, epochs = 5)"
      ],
      "execution_count": 0,
      "outputs": [
        {
          "output_type": "stream",
          "text": [
            "Epoch 1/5\n",
            "   1908/3112875 [..............................] - ETA: 1:04:15 - loss: 0.0310 - acc: 0.0755"
          ],
          "name": "stdout"
        },
        {
          "output_type": "error",
          "ename": "KeyboardInterrupt",
          "evalue": "",
          "traceback": [
            "\u001b[0;31m---------------------------------------------------------------------------\u001b[0m",
            "\u001b[0;31mKeyboardInterrupt\u001b[0m                         Traceback (most recent call last)",
            "\u001b[0;32m<ipython-input-50-df86ece9bc4c>\u001b[0m in \u001b[0;36m<module>\u001b[0;34m()\u001b[0m\n\u001b[1;32m      1\u001b[0m \u001b[0;31m# Fitting the ANN to the Training set\u001b[0m\u001b[0;34m\u001b[0m\u001b[0;34m\u001b[0m\u001b[0m\n\u001b[0;32m----> 2\u001b[0;31m \u001b[0mregressor\u001b[0m\u001b[0;34m.\u001b[0m\u001b[0mfit\u001b[0m\u001b[0;34m(\u001b[0m\u001b[0mX_train\u001b[0m\u001b[0;34m,\u001b[0m \u001b[0my_train\u001b[0m\u001b[0;34m,\u001b[0m \u001b[0mbatch_size\u001b[0m \u001b[0;34m=\u001b[0m \u001b[0;36m3\u001b[0m\u001b[0;34m,\u001b[0m \u001b[0mepochs\u001b[0m \u001b[0;34m=\u001b[0m \u001b[0;36m5\u001b[0m\u001b[0;34m)\u001b[0m\u001b[0;34m\u001b[0m\u001b[0m\n\u001b[0m",
            "\u001b[0;32m/opt/conda/lib/python3.6/site-packages/keras/engine/training.py\u001b[0m in \u001b[0;36mfit\u001b[0;34m(self, x, y, batch_size, epochs, verbose, callbacks, validation_split, validation_data, shuffle, class_weight, sample_weight, initial_epoch, steps_per_epoch, validation_steps, **kwargs)\u001b[0m\n\u001b[1;32m   1037\u001b[0m                                         \u001b[0minitial_epoch\u001b[0m\u001b[0;34m=\u001b[0m\u001b[0minitial_epoch\u001b[0m\u001b[0;34m,\u001b[0m\u001b[0;34m\u001b[0m\u001b[0m\n\u001b[1;32m   1038\u001b[0m                                         \u001b[0msteps_per_epoch\u001b[0m\u001b[0;34m=\u001b[0m\u001b[0msteps_per_epoch\u001b[0m\u001b[0;34m,\u001b[0m\u001b[0;34m\u001b[0m\u001b[0m\n\u001b[0;32m-> 1039\u001b[0;31m                                         validation_steps=validation_steps)\n\u001b[0m\u001b[1;32m   1040\u001b[0m \u001b[0;34m\u001b[0m\u001b[0m\n\u001b[1;32m   1041\u001b[0m     def evaluate(self, x=None, y=None,\n",
            "\u001b[0;32m/opt/conda/lib/python3.6/site-packages/keras/engine/training_arrays.py\u001b[0m in \u001b[0;36mfit_loop\u001b[0;34m(model, f, ins, out_labels, batch_size, epochs, verbose, callbacks, val_f, val_ins, shuffle, callback_metrics, initial_epoch, steps_per_epoch, validation_steps)\u001b[0m\n\u001b[1;32m    197\u001b[0m                     \u001b[0mins_batch\u001b[0m\u001b[0;34m[\u001b[0m\u001b[0mi\u001b[0m\u001b[0;34m]\u001b[0m \u001b[0;34m=\u001b[0m \u001b[0mins_batch\u001b[0m\u001b[0;34m[\u001b[0m\u001b[0mi\u001b[0m\u001b[0;34m]\u001b[0m\u001b[0;34m.\u001b[0m\u001b[0mtoarray\u001b[0m\u001b[0;34m(\u001b[0m\u001b[0;34m)\u001b[0m\u001b[0;34m\u001b[0m\u001b[0m\n\u001b[1;32m    198\u001b[0m \u001b[0;34m\u001b[0m\u001b[0m\n\u001b[0;32m--> 199\u001b[0;31m                 \u001b[0mouts\u001b[0m \u001b[0;34m=\u001b[0m \u001b[0mf\u001b[0m\u001b[0;34m(\u001b[0m\u001b[0mins_batch\u001b[0m\u001b[0;34m)\u001b[0m\u001b[0;34m\u001b[0m\u001b[0m\n\u001b[0m\u001b[1;32m    200\u001b[0m                 \u001b[0mouts\u001b[0m \u001b[0;34m=\u001b[0m \u001b[0mto_list\u001b[0m\u001b[0;34m(\u001b[0m\u001b[0mouts\u001b[0m\u001b[0;34m)\u001b[0m\u001b[0;34m\u001b[0m\u001b[0m\n\u001b[1;32m    201\u001b[0m                 \u001b[0;32mfor\u001b[0m \u001b[0ml\u001b[0m\u001b[0;34m,\u001b[0m \u001b[0mo\u001b[0m \u001b[0;32min\u001b[0m \u001b[0mzip\u001b[0m\u001b[0;34m(\u001b[0m\u001b[0mout_labels\u001b[0m\u001b[0;34m,\u001b[0m \u001b[0mouts\u001b[0m\u001b[0;34m)\u001b[0m\u001b[0;34m:\u001b[0m\u001b[0;34m\u001b[0m\u001b[0m\n",
            "\u001b[0;32m/opt/conda/lib/python3.6/site-packages/keras/backend/tensorflow_backend.py\u001b[0m in \u001b[0;36m__call__\u001b[0;34m(self, inputs)\u001b[0m\n\u001b[1;32m   2713\u001b[0m                 \u001b[0;32mreturn\u001b[0m \u001b[0mself\u001b[0m\u001b[0;34m.\u001b[0m\u001b[0m_legacy_call\u001b[0m\u001b[0;34m(\u001b[0m\u001b[0minputs\u001b[0m\u001b[0;34m)\u001b[0m\u001b[0;34m\u001b[0m\u001b[0m\n\u001b[1;32m   2714\u001b[0m \u001b[0;34m\u001b[0m\u001b[0m\n\u001b[0;32m-> 2715\u001b[0;31m             \u001b[0;32mreturn\u001b[0m \u001b[0mself\u001b[0m\u001b[0;34m.\u001b[0m\u001b[0m_call\u001b[0m\u001b[0;34m(\u001b[0m\u001b[0minputs\u001b[0m\u001b[0;34m)\u001b[0m\u001b[0;34m\u001b[0m\u001b[0m\n\u001b[0m\u001b[1;32m   2716\u001b[0m         \u001b[0;32melse\u001b[0m\u001b[0;34m:\u001b[0m\u001b[0;34m\u001b[0m\u001b[0m\n\u001b[1;32m   2717\u001b[0m             \u001b[0;32mif\u001b[0m \u001b[0mpy_any\u001b[0m\u001b[0;34m(\u001b[0m\u001b[0mis_tensor\u001b[0m\u001b[0;34m(\u001b[0m\u001b[0mx\u001b[0m\u001b[0;34m)\u001b[0m \u001b[0;32mfor\u001b[0m \u001b[0mx\u001b[0m \u001b[0;32min\u001b[0m \u001b[0minputs\u001b[0m\u001b[0;34m)\u001b[0m\u001b[0;34m:\u001b[0m\u001b[0;34m\u001b[0m\u001b[0m\n",
            "\u001b[0;32m/opt/conda/lib/python3.6/site-packages/keras/backend/tensorflow_backend.py\u001b[0m in \u001b[0;36m_call\u001b[0;34m(self, inputs)\u001b[0m\n\u001b[1;32m   2673\u001b[0m             \u001b[0mfetched\u001b[0m \u001b[0;34m=\u001b[0m \u001b[0mself\u001b[0m\u001b[0;34m.\u001b[0m\u001b[0m_callable_fn\u001b[0m\u001b[0;34m(\u001b[0m\u001b[0;34m*\u001b[0m\u001b[0marray_vals\u001b[0m\u001b[0;34m,\u001b[0m \u001b[0mrun_metadata\u001b[0m\u001b[0;34m=\u001b[0m\u001b[0mself\u001b[0m\u001b[0;34m.\u001b[0m\u001b[0mrun_metadata\u001b[0m\u001b[0;34m)\u001b[0m\u001b[0;34m\u001b[0m\u001b[0m\n\u001b[1;32m   2674\u001b[0m         \u001b[0;32melse\u001b[0m\u001b[0;34m:\u001b[0m\u001b[0;34m\u001b[0m\u001b[0m\n\u001b[0;32m-> 2675\u001b[0;31m             \u001b[0mfetched\u001b[0m \u001b[0;34m=\u001b[0m \u001b[0mself\u001b[0m\u001b[0;34m.\u001b[0m\u001b[0m_callable_fn\u001b[0m\u001b[0;34m(\u001b[0m\u001b[0;34m*\u001b[0m\u001b[0marray_vals\u001b[0m\u001b[0;34m)\u001b[0m\u001b[0;34m\u001b[0m\u001b[0m\n\u001b[0m\u001b[1;32m   2676\u001b[0m         \u001b[0;32mreturn\u001b[0m \u001b[0mfetched\u001b[0m\u001b[0;34m[\u001b[0m\u001b[0;34m:\u001b[0m\u001b[0mlen\u001b[0m\u001b[0;34m(\u001b[0m\u001b[0mself\u001b[0m\u001b[0;34m.\u001b[0m\u001b[0moutputs\u001b[0m\u001b[0;34m)\u001b[0m\u001b[0;34m]\u001b[0m\u001b[0;34m\u001b[0m\u001b[0m\n\u001b[1;32m   2677\u001b[0m \u001b[0;34m\u001b[0m\u001b[0m\n",
            "\u001b[0;32m/opt/conda/lib/python3.6/site-packages/tensorflow/python/client/session.py\u001b[0m in \u001b[0;36m__call__\u001b[0;34m(self, *args, **kwargs)\u001b[0m\n\u001b[1;32m   1437\u001b[0m           ret = tf_session.TF_SessionRunCallable(\n\u001b[1;32m   1438\u001b[0m               \u001b[0mself\u001b[0m\u001b[0;34m.\u001b[0m\u001b[0m_session\u001b[0m\u001b[0;34m.\u001b[0m\u001b[0m_session\u001b[0m\u001b[0;34m,\u001b[0m \u001b[0mself\u001b[0m\u001b[0;34m.\u001b[0m\u001b[0m_handle\u001b[0m\u001b[0;34m,\u001b[0m \u001b[0margs\u001b[0m\u001b[0;34m,\u001b[0m \u001b[0mstatus\u001b[0m\u001b[0;34m,\u001b[0m\u001b[0;34m\u001b[0m\u001b[0m\n\u001b[0;32m-> 1439\u001b[0;31m               run_metadata_ptr)\n\u001b[0m\u001b[1;32m   1440\u001b[0m         \u001b[0;32mif\u001b[0m \u001b[0mrun_metadata\u001b[0m\u001b[0;34m:\u001b[0m\u001b[0;34m\u001b[0m\u001b[0m\n\u001b[1;32m   1441\u001b[0m           \u001b[0mproto_data\u001b[0m \u001b[0;34m=\u001b[0m \u001b[0mtf_session\u001b[0m\u001b[0;34m.\u001b[0m\u001b[0mTF_GetBuffer\u001b[0m\u001b[0;34m(\u001b[0m\u001b[0mrun_metadata_ptr\u001b[0m\u001b[0;34m)\u001b[0m\u001b[0;34m\u001b[0m\u001b[0m\n",
            "\u001b[0;31mKeyboardInterrupt\u001b[0m: "
          ]
        }
      ]
    },
    {
      "cell_type": "code",
      "metadata": {
        "trusted": true,
        "id": "52qWjVVcet_y",
        "colab_type": "code",
        "colab": {}
      },
      "source": [
        ""
      ],
      "execution_count": 0,
      "outputs": []
    },
    {
      "cell_type": "markdown",
      "metadata": {
        "id": "GP2e_cRBfB2w",
        "colab_type": "text"
      },
      "source": [
        "After 5 epochs the loss and accuracy are as follows:\n",
        "loss: 0.0303 - acc: 0.0761\n",
        "\n",
        "\n",
        "---\n",
        "\n",
        "The loss which is measured in MSE(Mean Squared Error) is close to the MSE I calculated through Random Forest algorithm. I think that the more time put into the ANN, the better chances of achieiving a better result. However, running 5 epochs ran overnight. I can only imagine how long 100 epochs would take."
      ]
    },
    {
      "cell_type": "code",
      "metadata": {
        "id": "QISlAeEJgKZU",
        "colab_type": "code",
        "colab": {}
      },
      "source": [
        ""
      ],
      "execution_count": 0,
      "outputs": []
    },
    {
      "cell_type": "markdown",
      "metadata": {
        "id": "E6YvMDYggMUP",
        "colab_type": "text"
      },
      "source": [
        "So, in conclusion, the winner in this problem is Random Forest. By using multiple decision trees and sampling over different samples random forest is able to achieve the best accuracy for this problem. We can expect decision trees to achieve results closer to random forest as well. I also believe that it is possible to minimize the MSE using Artificial Neural Networks but that is time consuming. For now, I'm happy with my results."
      ]
    },
    {
      "cell_type": "code",
      "metadata": {
        "id": "4Polx8DbhOEc",
        "colab_type": "code",
        "colab": {}
      },
      "source": [
        ""
      ],
      "execution_count": 0,
      "outputs": []
    }
  ]
}